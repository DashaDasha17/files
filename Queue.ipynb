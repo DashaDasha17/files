{
 "cells": [
  {
   "cell_type": "markdown",
   "metadata": {},
   "source": [
    "# Модуль queue предоставляет различные типы очередей, поддерживающие возможность доступа из множества потоков."
   ]
  },
  {
   "cell_type": "markdown",
   "metadata": {},
   "source": [
    "# class Queue\n",
    "Queue, основной класс модуля queue, реализует очередь, работающую по принципу \"первым пришел, первым ушел\" (FIFO - каждый раз извлекается элемент, который был добавлен раньше других)."
   ]
  },
  {
   "cell_type": "markdown",
   "metadata": {},
   "source": [
    "Элементы добавляются на одном “конце” последовательности c помощью метода put () и удаляются на другом c помощью метода get ()."
   ]
  },
  {
   "cell_type": "code",
   "execution_count": 8,
   "metadata": {},
   "outputs": [
    {
     "name": "stdout",
     "output_type": "stream",
     "text": [
      "0 1 2 3 4 "
     ]
    }
   ],
   "source": [
    "import queue\n",
    "\n",
    "q = queue.Queue()\n",
    "\n",
    "for i in range(5):\n",
    "    q.put(i)\n",
    "while not q.empty():\n",
    "    print(q.get(), end=' ')"
   ]
  },
  {
   "cell_type": "markdown",
   "metadata": {},
   "source": [
    "Элементы удаляются из очереди в том порядке, в котором они добавлялись.\n",
    "Метод get удаляет элемент из очереди q и возвращает его, если в очереди имеются элементы; в противном случае возбуждается исключение Empty."
   ]
  },
  {
   "cell_type": "markdown",
   "metadata": {},
   "source": [
    "# Очередь LifoQueue \n",
    "обеспечивает дисциплину обслуживания LIFO (last in, first out — “последним пришел — первым ушел”)."
   ]
  },
  {
   "cell_type": "code",
   "execution_count": 10,
   "metadata": {},
   "outputs": [
    {
     "name": "stdout",
     "output_type": "stream",
     "text": [
      "4 3 2 1 0 "
     ]
    }
   ],
   "source": [
    "import queue\n",
    "\n",
    "q = queue.LifoQueue()\n",
    "\n",
    "for i in range(5):\n",
    "    q.put(i)\n",
    "while not q.empty():\n",
    "    print(q.get(), end=' ')"
   ]
  },
  {
   "cell_type": "markdown",
   "metadata": {},
   "source": [
    "Метод get () удаляет из очереди элемент, который был помещен в нее последним."
   ]
  },
  {
   "cell_type": "markdown",
   "metadata": {},
   "source": [
    "# Очередь с приоритетом PriorityQueue"
   ]
  },
  {
   "cell_type": "markdown",
   "metadata": {},
   "source": [
    "Иногда порядок обработки элементов очереди должен основываться не на последовательности их создания или добавления в очередь, а на их характеристиках. Класс PriorityQueue использует упорядочение очереди по приоритетам для принятия решения, какой из элементов следует извлечь."
   ]
  },
  {
   "cell_type": "markdown",
   "metadata": {},
   "source": []
  },
  {
   "cell_type": "code",
   "execution_count": null,
   "metadata": {},
   "outputs": [],
   "source": [
    "from queue import PriorityQueue\n",
    "\n",
    "customers = PriorityQueue()\n",
    "\n",
    "customers.put((2, \"Harry\"))\n",
    "customers.put((3, \"Charles\"))\n",
    "customers.put((1, \"Riya\"))\n",
    "customers.put((4, \"Stacy\"))\n",
    "\n",
    "while customers:\n",
    "     print(customers.get())\n",
    "        \n",
    "# Выведет имена в порядке: Riya, Harry, Charles, Stacy."
   ]
  },
  {
   "cell_type": "markdown",
   "metadata": {},
   "source": [
    "q.put(1) Добавить значение\n",
    "q.empty() Пустая ли очередь?\n",
    "q.get() Взять значение"
   ]
  },
  {
   "cell_type": "code",
   "execution_count": null,
   "metadata": {},
   "outputs": [],
   "source": []
  }
 ],
 "metadata": {
  "kernelspec": {
   "display_name": "Python 3",
   "language": "python",
   "name": "python3"
  },
  "language_info": {
   "codemirror_mode": {
    "name": "ipython",
    "version": 3
   },
   "file_extension": ".py",
   "mimetype": "text/x-python",
   "name": "python",
   "nbconvert_exporter": "python",
   "pygments_lexer": "ipython3",
   "version": "3.8.3"
  }
 },
 "nbformat": 4,
 "nbformat_minor": 4
}
