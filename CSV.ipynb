{
 "cells": [
  {
   "cell_type": "markdown",
   "metadata": {},
   "source": [
    "# CSV (comma-separated value) - это формат представления табличных данных (например, это могут быть данные из таблицы или данные из БД).\n",
    "Этот модуль используется для работы с такими файлами, в которых данные записаны через запятую."
   ]
  },
  {
   "cell_type": "markdown",
   "metadata": {},
   "source": [
    "# 1 пояснение\n",
    "Для изучения модуля создается файл testdata.csv через Jupyter в корневом каталоге с текстом: \n",
    "\n",
    "number,product,model,location"
   ]
  },
  {
   "cell_type": "markdown",
   "metadata": {},
   "source": [
    "n1,computer,3750,dns"
   ]
  },
  {
   "cell_type": "markdown",
   "metadata": {},
   "source": [
    "n2,earphones,3850,citi-link"
   ]
  },
  {
   "cell_type": "markdown",
   "metadata": {},
   "source": [
    "n3,ipad,3650,mvideo"
   ]
  },
  {
   "cell_type": "markdown",
   "metadata": {},
   "source": [
    "n4,book,3630,eldorado"
   ]
  },
  {
   "cell_type": "markdown",
   "metadata": {},
   "source": [
    "# Чтение\n",
    "Для чтения данных из CSV-файла используют функцию reader ()."
   ]
  },
  {
   "cell_type": "code",
   "execution_count": 9,
   "metadata": {},
   "outputs": [
    {
     "name": "stdout",
     "output_type": "stream",
     "text": [
      "['number', 'product', 'model', 'location']\n",
      "['n1', 'computer', '3750', 'dns']\n",
      "['n2', 'earphones', '3850', 'citi-link']\n",
      "['n3', 'ipad', '3650', 'mvideo']\n",
      "['n4', 'book', '3630', 'eldorado']\n"
     ]
    }
   ],
   "source": [
    "import csv\n",
    "\n",
    "with open('testdata.csv') as f:\n",
    "    reader = csv.reader(f)\n",
    "    for row in reader:\n",
    "        print(row)"
   ]
  },
  {
   "cell_type": "markdown",
   "metadata": {},
   "source": [
    "При чтении файла каждая строка анализируемых входных данных преобразуется в список строк."
   ]
  },
  {
   "cell_type": "markdown",
   "metadata": {},
   "source": [
    "# Запись\n",
    "Сначала следует создать объект записи c помощью функции writer (), а затем итерировать по строкам, используя метод writerow () для их вывода."
   ]
  },
  {
   "cell_type": "code",
   "execution_count": 17,
   "metadata": {},
   "outputs": [
    {
     "name": "stdout",
     "output_type": "stream",
     "text": [
      "number,product,model,location\n",
      "1,computer,3750,\"dns, Spb\"\n",
      "2,earphones,3850,\"citi-link, Msc\"\n",
      "3,ipad,3650,\"mvideo, Sochi\"\n",
      "4,book,3630,\"eldorado, Perm\"\n",
      "\n"
     ]
    }
   ],
   "source": [
    "import csv\n",
    "\n",
    "data = [['number', 'product', 'model', 'location'],\n",
    "        ['1', 'computer', '3750', 'dns, Spb'],\n",
    "        ['2', 'earphones', '3850', 'citi-link, Msc'],\n",
    "        ['3', 'ipad', '3650', 'mvideo, Sochi'],\n",
    "        ['4', 'book', '3630', 'eldorado, Perm']]\n",
    "\n",
    "\n",
    "with open('testdatanew.csv', 'w') as f:\n",
    "    writer = csv.writer(f)\n",
    "    for row in data:\n",
    "        writer.writerow(row)\n",
    "\n",
    "with open('testdatanew.csv') as f:\n",
    "    print(f.read())"
   ]
  },
  {
   "cell_type": "markdown",
   "metadata": {},
   "source": [
    "Обратим внимание на кавычки в последнем столбце. Когда запятая находится в кавычках, модуль csv не воспринимает её как разделитель."
   ]
  },
  {
   "cell_type": "markdown",
   "metadata": {},
   "source": [
    "Иногда лучше, чтобы все строки были в кавычках. Чтобы добавить кавычки, следует изменить их поведение c помощью аргумента quoting."
   ]
  },
  {
   "cell_type": "code",
   "execution_count": 19,
   "metadata": {},
   "outputs": [
    {
     "name": "stdout",
     "output_type": "stream",
     "text": [
      "\"number\",\"product\",\"model\",\"location\"\n",
      "\"1\",\"computer\",\"3750\",\"dns, Spb\"\n",
      "\"2\",\"earphones\",\"3850\",\"citi-link, Msc\"\n",
      "\"3\",\"ipad\",\"3650\",\"mvideo, Sochi\"\n",
      "\"4\",\"book\",\"3630\",\"eldorado, Perm\"\n",
      "\n"
     ]
    }
   ],
   "source": [
    "import csv\n",
    "\n",
    "data = [['number', 'product', 'model', 'location'],\n",
    "        ['1', 'computer', '3750', 'dns, Spb'],\n",
    "        ['2', 'earphones', '3850', 'citi-link, Msc'],\n",
    "        ['3', 'ipad', '3650', 'mvideo, Sochi'],\n",
    "        ['4', 'book', '3630', 'eldorado, Perm']]\n",
    "\n",
    "\n",
    "with open('testdatanew.csv', 'w') as f:\n",
    "    writer = csv.writer(f, quoting=csv.QUOTE_ALL)\n",
    "    for row in data:\n",
    "        writer.writerow(row)\n",
    "\n",
    "with open('testdatanew.csv') as f:\n",
    "    print(f.read())"
   ]
  },
  {
   "cell_type": "markdown",
   "metadata": {},
   "source": [
    "Доступны четыре опции управления режимом использования кавычек, определенные в виде констант в модуле csv.\n",
    "\n",
    "QUOTE_ALL. В кавычки заключаются все значения, независимо от типа."
   ]
  },
  {
   "cell_type": "markdown",
   "metadata": {},
   "source": [
    "QUOTE_NONE. Поля не заключаются в кавычки. При использовании c методом reader символы кавычек включаются в значения полей (обычно они интерпретируются как разделители и отбрасываются)."
   ]
  },
  {
   "cell_type": "markdown",
   "metadata": {},
   "source": [
    "QUOTE_NONNUMERIC. В кавычки заключаются все нечисловые поля. При использовании c методом reader входные поля, не заключенные в кавычки, преобразуются в числа c плавающей точкой."
   ]
  },
  {
   "cell_type": "markdown",
   "metadata": {},
   "source": [
    "QUOTE_MINIMAL. В кавычки заключаются только поля, содержащие специальные символы (символы, которые могли бы сбить c толку анализатор, такие как символ-разделитель, заданный параметрами диалекта или опциями). Это поведение задано по умолчанию."
   ]
  },
  {
   "cell_type": "markdown",
   "metadata": {},
   "source": [
    "# Диалекты\n",
    "Ввиду отсутствия строгого стандарта для файлов CSV анализатор должен проявлять определенную гибкость. Для обеспечения этой гибкости предусмотрено множество параметров, позволяющих управлять способом чтения и записи данных. Вместо того чтобы передавать каждый из этих параметров по отдельности методам reader () и writer (), они группируются в объект диалекта. Полный список зарегистрированных диалектов можно получить c помощью функции list_dialects()."
   ]
  },
  {
   "cell_type": "code",
   "execution_count": 20,
   "metadata": {},
   "outputs": [
    {
     "name": "stdout",
     "output_type": "stream",
     "text": [
      "['excel', 'excel-tab', 'unix']\n"
     ]
    }
   ],
   "source": [
    "import csv\n",
    "print(csv.list_dialects() )"
   ]
  },
  {
   "cell_type": "markdown",
   "metadata": {},
   "source": [
    "В диалекте unix в кавычки заключаются все поля c двойными кавычками, а в качестве разделителя записей используется символ \\n."
   ]
  },
  {
   "cell_type": "markdown",
   "metadata": {},
   "source": [
    "Если во входном файле вместо запятых в качестве разделителей полей используются символы канала (|), то можно зарегистрировать соответствующий диалект.\n",
    "\n",
    "testdata.pipes\n",
    "\n",
    "\"Title l\"|\"Title 2\"|\"Title 3\"\n",
    "\n",
    "1|first|08/18/07"
   ]
  },
  {
   "cell_type": "code",
   "execution_count": 33,
   "metadata": {},
   "outputs": [
    {
     "name": "stdout",
     "output_type": "stream",
     "text": [
      "['Title 1', 'Title 2', 'Title 3']\n",
      "['1', 'first', '08/18/07']\n"
     ]
    }
   ],
   "source": [
    "import csv\n",
    "csv.register_dialect('pipes', delimiter='|')\n",
    "with open('testdata.pipes', 'r') as f:\n",
    "    reader = csv.reader(f, dialect='pipes')\n",
    "    for row in reader:\n",
    "        print(row)"
   ]
  },
  {
   "cell_type": "markdown",
   "metadata": {},
   "source": [
    "## Использование имен полей"
   ]
  },
  {
   "cell_type": "markdown",
   "metadata": {},
   "source": [
    "Помимо средств для работы c последовательностями данных модуль csv включает классы, предназначенные для работы со строками как словарями, что позволяет использовать именованные поля. Классы DictReader и DictWriter преобразуют строки в словари вместо списков. Ключи могут передаваться словарю или же будут браться из первой строки входного файла (если она содержит заголовки)."
   ]
  },
  {
   "cell_type": "code",
   "execution_count": 39,
   "metadata": {},
   "outputs": [
    {
     "name": "stdout",
     "output_type": "stream",
     "text": [
      "{'number': 'n1', 'product': 'computer', 'model': '3750', 'location': 'dns'}\n",
      "{'number': 'n2', 'product': 'earphones', 'model': '3850', 'location': 'citi-link'}\n",
      "{'number': 'n3', 'product': 'ipad', 'model': '3650', 'location': 'mvideo'}\n",
      "{'number': 'n4', 'product': 'book', 'model': '3630', 'location': 'eldorado'}\n"
     ]
    }
   ],
   "source": [
    "import csv\n",
    "\n",
    "with open('testdata.csv', 'r') as f:\n",
    "    reader = csv.DictReader(f)\n",
    "    for row in reader:\n",
    "        print(row)"
   ]
  },
  {
   "cell_type": "markdown",
   "metadata": {},
   "source": [
    "Объекту на основе класса DictWriter должен предоставляться список имен полей, чтобы он мог расположить столбцы в правильном порядке при их выводе."
   ]
  },
  {
   "cell_type": "code",
   "execution_count": 56,
   "metadata": {},
   "outputs": [
    {
     "name": "stdout",
     "output_type": "stream",
     "text": [
      "number,product,model,location\n",
      "n1,computer,3750,dns\n",
      "n3,ipad,3650,mvideo\n",
      "n4,book,3630,eldorado\n",
      "n2,earphones,3850,citi-link\n",
      "\n"
     ]
    }
   ],
   "source": [
    "import csv\n",
    "data = [\n",
    "    { 'number': 'n1', 'product': 'computer', 'model': '3750', 'location': 'dns'},\n",
    "    {'location': 'mvideo', 'product': 'ipad', 'model': '3650','number': 'n3'},\n",
    "    { 'model': '3630', 'location': 'eldorado','number': 'n4','product': 'book'},\n",
    "    {'location': 'citi-link', 'number': 'n2', 'model': '3850', 'product': 'earphones'}, \n",
    "]\n",
    "\n",
    "with open('testdatanew2.csv', 'w') as f:\n",
    "    writer = csv.DictWriter(f, fieldnames=list(data[0].keys()))\n",
    "    writer.writeheader()\n",
    "    for d in data:\n",
    "        writer.writerow(d)\n",
    "with open('testdatanew2.csv') as f:\n",
    "    print(f.read())     "
   ]
  },
  {
   "cell_type": "markdown",
   "metadata": {},
   "source": [
    "# Задание\n",
    "Запишите в файл csv данные. Одним из столбцов должны быть числа. Заключите данные в кавычки, используя QUOTE_ALL, а затем QUOTE_NONNUMERIC. Ответьте на вопрос: почему одинаковые результаты? (исходя из описания опций)"
   ]
  },
  {
   "cell_type": "code",
   "execution_count": null,
   "metadata": {},
   "outputs": [],
   "source": []
  }
 ],
 "metadata": {
  "kernelspec": {
   "display_name": "Python 3",
   "language": "python",
   "name": "python3"
  },
  "language_info": {
   "codemirror_mode": {
    "name": "ipython",
    "version": 3
   },
   "file_extension": ".py",
   "mimetype": "text/x-python",
   "name": "python",
   "nbconvert_exporter": "python",
   "pygments_lexer": "ipython3",
   "version": "3.8.3"
  }
 },
 "nbformat": 4,
 "nbformat_minor": 4
}
