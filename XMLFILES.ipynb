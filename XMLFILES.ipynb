{
 "cells": [
  {
   "cell_type": "markdown",
   "metadata": {},
   "source": [
    "## XML (eXtensiЬle Markup Language - расширяемый язык разметки) - широко используемый формат обмена данными.\n",
    "Библиотека ElementTree включает инструментальные средства, предназначенные для синтаксического анализа (парсинга) XML-документов.\n",
    "XML-документы, прошедшие синтаксический анализ, представляются в памяти объектами ElementTree и Element, объединяемыми в единую иерархическую структуру."
   ]
  },
  {
   "cell_type": "markdown",
   "metadata": {},
   "source": [
    "Класс Element представляет узел в дереве, отображающем весь ХМL-документ, и является центральным элементом всей экосистемы ElementTree.\n",
    "Каждый элемент ведет себя, с одной стороны, как отображение с атрибутами, переводящими строко-\n",
    "вые ключи в строковые значения, а с другой - как последовательность с дочерними элементами, являющимися другими элементами (иногда называемыми \"подэлементами\" данного элемента). \n"
   ]
  },
  {
   "cell_type": "markdown",
   "metadata": {},
   "source": [
    "Класс ElementTree представляет дерево, отображающее ХМL-документ. Основной ценностью экземпляра et класса ElementTree являются описанные ниже методы для группового парсинга (ввода) и записи (вывода) дерева в целом."
   ]
  },
  {
   "cell_type": "markdown",
   "metadata": {},
   "source": [
    "\n",
    "ссылка на файл https://www.w3schools.com/xml/simple.xml"
   ]
  },
  {
   "cell_type": "code",
   "execution_count": 25,
   "metadata": {},
   "outputs": [
    {
     "name": "stdout",
     "output_type": "stream",
     "text": [
      "<xml.etree.ElementTree.ElementTree object at 0x7fb474847df0>\n"
     ]
    }
   ],
   "source": [
    "from urllib import request\n",
    "from xml.etree import ElementTree as et\n",
    "\n",
    "content = request.urlopen('https://www.w3schools.com/xml/simple.xml')\n",
    "tree = et.parse(content)\n",
    "print(tree)"
   ]
  },
  {
   "cell_type": "markdown",
   "metadata": {},
   "source": [
    "Метод parse () читает данные, анализирует XML-документ и возвращает объект ElementTree."
   ]
  },
  {
   "cell_type": "code",
   "execution_count": 24,
   "metadata": {},
   "outputs": [
    {
     "name": "stdout",
     "output_type": "stream",
     "text": [
      "breakfast_menu\n",
      "food\n",
      "name\n",
      "price\n",
      "description\n",
      "calories\n",
      "food\n",
      "name\n",
      "price\n",
      "description\n",
      "calories\n",
      "food\n",
      "name\n",
      "price\n",
      "description\n",
      "calories\n",
      "food\n",
      "name\n",
      "price\n",
      "description\n",
      "calories\n",
      "food\n",
      "name\n",
      "price\n",
      "description\n",
      "calories\n"
     ]
    }
   ],
   "source": [
    "from urllib import request\n",
    "from xml.etree import ElementTree as et\n",
    "\n",
    "content = request.urlopen('https://www.w3schools.com/xml/simple.xml')\n",
    "tree = et.parse(content)\n",
    "for node in tree.iter():\n",
    "    print(node.tag)"
   ]
  },
  {
   "cell_type": "markdown",
   "metadata": {},
   "source": [
    "Для поочередного обхода всех узлов иерархического дерева элементов документа используем метод iter (), который возвращает генератор, обеспечиваюций итерирование no экземпляру ElementTree."
   ]
  },
  {
   "cell_type": "markdown",
   "metadata": {},
   "source": [
    "#  Выбор элементов из дерева элементов"
   ]
  },
  {
   "cell_type": "code",
   "execution_count": 23,
   "metadata": {},
   "outputs": [
    {
     "name": "stdout",
     "output_type": "stream",
     "text": [
      "600 French Toast\n",
      "650 Belgian Waffles\n",
      "900 Berry-Berry Belgian Waffles\n",
      "900 Strawberry Belgian Waffles\n",
      "950 Homestyle Breakfast\n"
     ]
    }
   ],
   "source": [
    "from urllib import request\n",
    "from xml.etree import ElementTree as et\n",
    "\n",
    "content = request.urlopen('https://www.w3schools.com/xml/simple.xml')\n",
    "tree = et.parse(content)\n",
    "\n",
    "def bycal_and_name(e):\n",
    "    return int(e.find('calories').text), e.find('name').text\n",
    "for e in sorted(tree.findall('food'), key= bycal_and_name):\n",
    "    print('{} {}'.format(e.find('calories').text, e.find('name').text))\n"
   ]
  },
  {
   "cell_type": "markdown",
   "metadata": {},
   "source": [
    "# Построение XML документов\n",
    "\n"
   ]
  },
  {
   "cell_type": "code",
   "execution_count": 75,
   "metadata": {},
   "outputs": [
    {
     "name": "stdout",
     "output_type": "stream",
     "text": [
      "<data><country name=\"Liechtenstein\"><rank updated=\"yes\">2</rank><year>2008</year><gdppc>141100</gdppc><neighbor name=\"Austria\" direction=\"E\" /><neighbor name=\"Switzerland\" direction=\"W\" /></country><country name=\"Singapore\" /></data>\n"
     ]
    }
   ],
   "source": [
    "import xml.etree.ElementTree as ET\n",
    "\n",
    "root = ET.Element('data')\n",
    "\n",
    "country = ET.Element('country', name=\"Liechtenstein\")\n",
    "\n",
    "rank = ET.Element('rank', updated=\"yes\")\n",
    "rank.text = '2'\n",
    "country.append(rank)\n",
    "\n",
    "year = ET.Element('year')\n",
    "year.text = '2008'\n",
    "country.append(year)\n",
    "\n",
    "gdppc = ET.Element('gdppc')\n",
    "gdppc.text = '141100'\n",
    "country.append(gdppc)\n",
    "\n",
    "country.append(ET.Element('neighbor', name=\"Austria\", direction=\"E\"))\n",
    "country.append(ET.Element('neighbor', name=\"Switzerland\", direction=\"W\"))\n",
    "\n",
    "root.append(country)\n",
    "\n",
    "country = ET.Element('country', name=\"Singapore\")\n",
    "root.append(country)\n",
    "\n",
    "ET.dump(root)"
   ]
  },
  {
   "cell_type": "markdown",
   "metadata": {},
   "source": [
    "# Сохранение файла"
   ]
  },
  {
   "cell_type": "code",
   "execution_count": 15,
   "metadata": {},
   "outputs": [],
   "source": [
    "tree = ET.ElementTree(root)\n",
    "tree.write(\"sample.xml\")"
   ]
  },
  {
   "cell_type": "markdown",
   "metadata": {},
   "source": [
    "# Задание\n",
    "Создать небольшой собственный xml файл, провести синтаксический анализ (получить объект ElementTree), ответить на вопрос: чем xml отличается от html?"
   ]
  },
  {
   "cell_type": "code",
   "execution_count": null,
   "metadata": {},
   "outputs": [],
   "source": []
  }
 ],
 "metadata": {
  "kernelspec": {
   "display_name": "Python 3",
   "language": "python",
   "name": "python3"
  },
  "language_info": {
   "codemirror_mode": {
    "name": "ipython",
    "version": 3
   },
   "file_extension": ".py",
   "mimetype": "text/x-python",
   "name": "python",
   "nbconvert_exporter": "python",
   "pygments_lexer": "ipython3",
   "version": "3.8.3"
  }
 },
 "nbformat": 4,
 "nbformat_minor": 4
}
